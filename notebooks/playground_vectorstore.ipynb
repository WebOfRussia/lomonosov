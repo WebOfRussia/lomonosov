{
  "cells": [
    {
      "cell_type": "code",
      "execution_count": 1,
      "metadata": {
        "id": "hHSZEThXwcSl"
      },
      "outputs": [],
      "source": [
        "!pip install gigachain chromadb unstructured > /dev/null"
      ]
    },
    {
      "cell_type": "code",
      "execution_count": 128,
      "metadata": {
        "id": "Riontt5HwhlN"
      },
      "outputs": [],
      "source": [
        "from langchain.document_loaders import DirectoryLoader\n",
        "from langchain.text_splitter import (\n",
        "    RecursiveCharacterTextSplitter,\n",
        ")\n",
        "from chromadb.config import Settings\n",
        "from langchain.vectorstores import Chroma\n",
        "from langchain_community.embeddings.gigachat import GigaChatEmbeddings\n",
        "import requests\n",
        "import json\n",
        "import os\n",
        "import glob\n",
        "import numpy as np\n",
        "from sklearn.metrics.pairwise import cosine_similarity"
      ]
    },
    {
      "cell_type": "code",
      "execution_count": 68,
      "metadata": {
        "id": "xirbzEQXhddn"
      },
      "outputs": [],
      "source": [
        "def save_file(file_dir, file):\n",
        "  with open(file_dir, 'w') as f:\n",
        "    f.write(file)\n",
        "\n",
        "def save_json(file_dir, file):\n",
        "  with open(file_dir, 'w') as f:\n",
        "    json.dump(file_dir, f, ensure_ascii=False, indent=4)\n",
        "\n",
        "DATA_PATH = os.path.join('.', 'data')"
      ]
    },
    {
      "cell_type": "code",
      "execution_count": 83,
      "metadata": {
        "id": "sWA0l04XmvUE"
      },
      "outputs": [],
      "source": [
        "files = glob.glob(os.path.join(DATA_PATH, '*'))\n",
        "for f in files:\n",
        "    os.remove(f)"
      ]
    },
    {
      "cell_type": "code",
      "execution_count": 84,
      "metadata": {
        "id": "1JCeFLBje0ZB"
      },
      "outputs": [],
      "source": [
        "query = \"классификация текста\"\n",
        "headers = {\n",
        "    'content-type': 'application/json',\n",
        "    'sec-fetch-dest': 'empty',\n",
        "    'sec-fetch-mode': 'cors',\n",
        "    'sec-fetch-site': 'same-origin'\n",
        "}\n",
        "\n",
        "data = {\n",
        "    'mode': 'articles',\n",
        "    'q': query,\n",
        "    'size': 30,\n",
        "    'from': 0\n",
        "}\n",
        "\n",
        "response = requests.post(\n",
        "    'https://cyberleninka.ru/api/search',\n",
        "    headers=headers,\n",
        "    json=data\n",
        ")"
      ]
    },
    {
      "cell_type": "code",
      "execution_count": 85,
      "metadata": {
        "colab": {
          "base_uri": "https://localhost:8080/"
        },
        "id": "KWr-bjwngvcs",
        "outputId": "5b166af8-9d8a-47de-a93a-9fc09dd801c8"
      },
      "outputs": [
        {
          "data": {
            "text/plain": [
              "30"
            ]
          },
          "execution_count": 85,
          "metadata": {},
          "output_type": "execute_result"
        }
      ],
      "source": [
        "len(response.json()['articles'])"
      ]
    },
    {
      "cell_type": "code",
      "execution_count": 108,
      "metadata": {
        "id": "rJT_M5ZGhIVY"
      },
      "outputs": [],
      "source": [
        "# save articles locally\n",
        "save_json(os.path.join(DATA_PATH, query + \".json\"), response.json()['articles'])\n",
        "\n",
        "for article in response.json()['articles']:\n",
        "  annotation = article['annotation']\n",
        "  link = article['link']\n",
        "\n",
        "  pdf_url = f\"https://cyberleninka.ru{link}/pdf\"\n",
        "\n",
        "  save_file(os.path.join(DATA_PATH, link.replace(\"/\", \"_\") + \".txt\"), annotation)"
      ]
    },
    {
      "cell_type": "code",
      "execution_count": 109,
      "metadata": {
        "id": "fMRo58cywjPY"
      },
      "outputs": [],
      "source": [
        "loader = DirectoryLoader(DATA_PATH, glob=\"*.txt\")\n",
        "docs = loader.load()"
      ]
    },
    {
      "cell_type": "code",
      "execution_count": 112,
      "metadata": {
        "colab": {
          "base_uri": "https://localhost:8080/"
        },
        "id": "G5qD2c0Uwme_",
        "outputId": "c689167b-2a62-4340-dffa-cc344b6516a8"
      },
      "outputs": [
        {
          "name": "stdout",
          "output_type": "stream",
          "text": [
            "Total documents: 56\n"
          ]
        }
      ],
      "source": [
        "text_splitter = RecursiveCharacterTextSplitter(\n",
        "    chunk_size=200,\n",
        "    chunk_overlap=50,\n",
        ")\n",
        "documents = text_splitter.split_documents(docs)\n",
        "print(f\"Total documents: {len(documents)}\")"
      ]
    },
    {
      "cell_type": "code",
      "execution_count": 125,
      "metadata": {
        "id": "vGT2otyEwnWX"
      },
      "outputs": [],
      "source": [
        "embeddings = GigaChatEmbeddings(\n",
        "    credentials=\"\", verify_ssl_certs=False,\n",
        "    scope=\"GIGACHAT_API_CORP\"\n",
        ")\n",
        "\n",
        "source_list = [doc.metadata['source'] for doc in documents]\n",
        "embedding_list = embeddings.embed_documents([doc.page_content for doc in documents])"
      ]
    },
    {
      "cell_type": "code",
      "execution_count": 155,
      "metadata": {
        "id": "zVJQzb2CxFs2"
      },
      "outputs": [],
      "source": [
        "def similarity_search(query_embedding, embeddings):\n",
        "  scores = []\n",
        "  for emb in embeddings:\n",
        "    scores.append(cosine_similarity([query_embedding], [emb]))\n",
        "  return scores.index(max(scores))"
      ]
    },
    {
      "cell_type": "code",
      "execution_count": 156,
      "metadata": {
        "colab": {
          "base_uri": "https://localhost:8080/"
        },
        "id": "JjucQ76it-LD",
        "outputId": "7f199b5d-ffab-4335-ca6a-5b4e30e5db0c"
      },
      "outputs": [
        {
          "data": {
            "text/plain": [
              "8"
            ]
          },
          "execution_count": 156,
          "metadata": {},
          "output_type": "execute_result"
        }
      ],
      "source": [
        "similarity_search(embeddings.embed_query(query), embedding_list)"
      ]
    },
    {
      "cell_type": "code",
      "execution_count": 157,
      "metadata": {
        "colab": {
          "base_uri": "https://localhost:8080/",
          "height": 35
        },
        "id": "3dHV47VpxaH_",
        "outputId": "731cf344-171c-4589-f437-230c15ea8f48"
      },
      "outputs": [
        {
          "data": {
            "application/vnd.google.colaboratory.intrinsic+json": {
              "type": "string"
            },
            "text/plain": [
              "'data/_article_n_klassifikatsiya-tekstov.txt'"
            ]
          },
          "execution_count": 157,
          "metadata": {},
          "output_type": "execute_result"
        }
      ],
      "source": [
        "source_list[8]"
      ]
    },
    {
      "cell_type": "code",
      "execution_count": null,
      "metadata": {
        "id": "tUGnF1eOnPj_"
      },
      "outputs": [],
      "source": []
    }
  ],
  "metadata": {
    "colab": {
      "provenance": []
    },
    "kernelspec": {
      "display_name": "Python 3",
      "name": "python3"
    },
    "language_info": {
      "name": "python"
    }
  },
  "nbformat": 4,
  "nbformat_minor": 0
}
