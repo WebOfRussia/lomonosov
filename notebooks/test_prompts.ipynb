{
 "cells": [
  {
   "cell_type": "code",
   "execution_count": 31,
   "metadata": {},
   "outputs": [
    {
     "data": {
      "text/plain": [
       "True"
      ]
     },
     "execution_count": 31,
     "metadata": {},
     "output_type": "execute_result"
    }
   ],
   "source": [
    "from langchain.prompts import load_prompt\n",
    "from langchain.chat_models.gigachat import GigaChat\n",
    "from langchain.chains import LLMChain\n",
    "from langchain.output_parsers.json import SimpleJsonOutputParser\n",
    "\n",
    "import os\n",
    "from dotenv import load_dotenv\n",
    "\n",
    "load_dotenv(\"../.env\")"
   ]
  },
  {
   "cell_type": "code",
   "execution_count": 32,
   "metadata": {},
   "outputs": [],
   "source": [
    "AUTH_DATA = os.getenv(\"AUTH_DATA\")"
   ]
  },
  {
   "cell_type": "code",
   "execution_count": 33,
   "metadata": {},
   "outputs": [],
   "source": [
    "# Авторизация в сервисе GigaChat\n",
    "giga = GigaChat(credentials=AUTH_DATA, verify_ssl_certs=False)"
   ]
  },
  {
   "cell_type": "code",
   "execution_count": 34,
   "metadata": {},
   "outputs": [],
   "source": [
    "def read_file(file):\n",
    "    with open(file, 'r') as f:\n",
    "        return f.read()\n",
    "    \n",
    "abstract = read_file(\"../resources/tests/test_abstract.txt\")"
   ]
  },
  {
   "cell_type": "markdown",
   "metadata": {},
   "source": [
    "# Генерация ключевых слов"
   ]
  },
  {
   "cell_type": "code",
   "execution_count": 35,
   "metadata": {},
   "outputs": [
    {
     "name": "stdout",
     "output_type": "stream",
     "text": [
      "['электронные медицинские записи', 'оценка состояния пациентов', 'модель BERT', 'глубокое обучение', 'статистические методы', 'температура', 'артериальное давление', 'частота дыхательных движений', 'частота сердечных сокращений', 'сатурация', 'разметка документов', 'предикторы оценки состояния пациентов', 'SpaCy', 'DeepPavlov', 'нейросетевые модели', 'обучающая выборка', 'донастройка моделей', 'результативность моделей']\n"
     ]
    }
   ],
   "source": [
    "prompt = load_prompt(\"../resources/prompts/ru/zero_shot/keywords.yaml\")\n",
    "output_parser = SimpleJsonOutputParser()\n",
    "chain = prompt | giga | output_parser\n",
    "result = chain.invoke(\n",
    "    {\n",
    "        \"text\": abstract\n",
    "    }\n",
    ")\n",
    "\n",
    "print(result)"
   ]
  },
  {
   "cell_type": "markdown",
   "metadata": {},
   "source": [
    "# Суммаризация"
   ]
  },
  {
   "cell_type": "code",
   "execution_count": 13,
   "metadata": {},
   "outputs": [
    {
     "name": "stdout",
     "output_type": "stream",
     "text": [
      "В данной статье рассматривается возможность использования модели BERT для выявления значимых признаков из электронных медицинских записей пациентов с COVID-19. Исследование проводилось на основе разметки 340 обезличенных электронных медицинских записей пациентов, болевших COVID-19. Показано, что настройка моделей на количестве около 150 размеченных документов позволяет определять указанные предикторы в таких текстах с точностью (Precision) 85–98 % и с полнотой (Recall) 77–98 %.\n"
     ]
    }
   ],
   "source": [
    "prompt = load_prompt(\"../resources/prompts/ru/zero_shot/summary.yaml\")\n",
    "chain = prompt | giga\n",
    "result = chain.invoke(\n",
    "    {\n",
    "        \"text\": abstract\n",
    "    }\n",
    ").content\n",
    "\n",
    "print(result)"
   ]
  },
  {
   "cell_type": "markdown",
   "metadata": {},
   "source": [
    "# Генерация названия"
   ]
  },
  {
   "cell_type": "code",
   "execution_count": 14,
   "metadata": {},
   "outputs": [
    {
     "name": "stdout",
     "output_type": "stream",
     "text": [
      "\"Автоматизация оценки состояния пациентов с COVID-19: использование модели BERT для выявления именованных сущностей в электронных медицинских записях\"\n"
     ]
    }
   ],
   "source": [
    "prompt = load_prompt(\"../resources/prompts/ru/zero_shot/title.yaml\")\n",
    "chain = prompt | giga\n",
    "result = chain.invoke(\n",
    "    {\n",
    "        \"text\": abstract\n",
    "    }\n",
    ").content\n",
    "\n",
    "print(result)"
   ]
  },
  {
   "cell_type": "markdown",
   "metadata": {},
   "source": [
    "# Извлечение терминологии"
   ]
  },
  {
   "cell_type": "code",
   "execution_count": 23,
   "metadata": {},
   "outputs": [
    {
     "name": "stdout",
     "output_type": "stream",
     "text": [
      "['глубокое обучение', 'статистические методы', 'нейросетевые модели', 'аннотирование документов', 'разметка документов', 'электронные медицинские записи', 'пациенты с COVID-19', 'температура', 'артериальное давление', 'частота дыхательных движений', 'частота сердечных сокращений', 'сатурация', 'точность', 'полнота', 'метрики качества работы', 'итеративное расширение обучающей выборки', 'донастройка моделей']\n"
     ]
    }
   ],
   "source": [
    "prompt = load_prompt(\"../resources/prompts/ru/zero_shot/terminology.yaml\")\n",
    "output_parser = SimpleJsonOutputParser()\n",
    "chain = prompt | giga | output_parser\n",
    "result = chain.invoke(\n",
    "    {\n",
    "        \"text\": abstract\n",
    "    }\n",
    ")\n",
    "\n",
    "print(result)"
   ]
  },
  {
   "cell_type": "markdown",
   "metadata": {},
   "source": [
    "# Парафраз"
   ]
  },
  {
   "cell_type": "code",
   "execution_count": 25,
   "metadata": {},
   "outputs": [
    {
     "name": "stdout",
     "output_type": "stream",
     "text": [
      "В данном тексте научной статьи рассматривается необходимость выделения значимых признаков из электронных медицинских записей для автоматизации оценки состояния больных. Это является важным аспектом в научной деятельности, так как позволяет более точно и эффективно анализировать данные и принимать решения на основе полученной информации.\n"
     ]
    }
   ],
   "source": [
    "prompt = load_prompt(\"../resources/prompts/ru/zero_shot/paraphrase.yaml\")\n",
    "chain = prompt | giga\n",
    "result = chain.invoke(\n",
    "    {\n",
    "        \"text\": abstract.split('.')[1]\n",
    "    }\n",
    ").content\n",
    "\n",
    "print(result)"
   ]
  },
  {
   "cell_type": "code",
   "execution_count": null,
   "metadata": {},
   "outputs": [],
   "source": []
  }
 ],
 "metadata": {
  "kernelspec": {
   "display_name": "Python 3",
   "language": "python",
   "name": "python3"
  },
  "language_info": {
   "codemirror_mode": {
    "name": "ipython",
    "version": 3
   },
   "file_extension": ".py",
   "mimetype": "text/x-python",
   "name": "python",
   "nbconvert_exporter": "python",
   "pygments_lexer": "ipython3",
   "version": "3.8.10"
  }
 },
 "nbformat": 4,
 "nbformat_minor": 2
}
